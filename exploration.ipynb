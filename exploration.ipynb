{
 "cells": [
  {
   "cell_type": "code",
   "execution_count": 1,
   "metadata": {
    "collapsed": true
   },
   "outputs": [],
   "source": [
    "import pandas as pd\n",
    "#df = pd.read_csv('./train.csv', sep='|', parse_dates=True)\n",
    "df = pd.read_csv('./train_csv.csv', parse_dates=True)\n",
    "df_TEST = pd.read_csv('./test_csv.csv', parse_dates=True)"
   ]
  },
  {
   "cell_type": "code",
   "execution_count": 2,
   "outputs": [
    {
     "data": {
      "text/plain": "id                                    int64\nindustry                             object\nindustry_clean                       object\nindustry_simple                      object\ngeography                            object\ngeo_clean                            object\ngeo_simple                           object\nmost_common_browser                  object\nsession_time_prior_month_seconds      int64\nprior_month_paid                    float64\ndtype: object"
     },
     "execution_count": 2,
     "metadata": {},
     "output_type": "execute_result"
    }
   ],
   "source": [
    "# Quick summary cells\n",
    "# df.head\n",
    "df.dtypes"
   ],
   "metadata": {
    "collapsed": false,
    "pycharm": {
     "name": "#%%\n"
    }
   }
  },
  {
   "cell_type": "code",
   "execution_count": 3,
   "outputs": [
    {
     "data": {
      "text/plain": "                 id  session_time_prior_month_seconds  prior_month_paid\ncount  4.800000e+04                      48000.000000      48000.000000\nmean   4.997442e+09                       1952.151854         85.624461\nstd    2.896754e+09                       2579.835645         32.754654\nmin    3.134830e+05                          1.000000          0.040000\n25%    2.481218e+09                        612.000000         63.845328\n50%    4.993512e+09                       1210.000000         87.822595\n75%    7.516707e+09                       2289.000000        111.080471\nmax    9.999608e+09                      50233.000000        165.758664",
      "text/html": "<div>\n<style scoped>\n    .dataframe tbody tr th:only-of-type {\n        vertical-align: middle;\n    }\n\n    .dataframe tbody tr th {\n        vertical-align: top;\n    }\n\n    .dataframe thead th {\n        text-align: right;\n    }\n</style>\n<table border=\"1\" class=\"dataframe\">\n  <thead>\n    <tr style=\"text-align: right;\">\n      <th></th>\n      <th>id</th>\n      <th>session_time_prior_month_seconds</th>\n      <th>prior_month_paid</th>\n    </tr>\n  </thead>\n  <tbody>\n    <tr>\n      <th>count</th>\n      <td>4.800000e+04</td>\n      <td>48000.000000</td>\n      <td>48000.000000</td>\n    </tr>\n    <tr>\n      <th>mean</th>\n      <td>4.997442e+09</td>\n      <td>1952.151854</td>\n      <td>85.624461</td>\n    </tr>\n    <tr>\n      <th>std</th>\n      <td>2.896754e+09</td>\n      <td>2579.835645</td>\n      <td>32.754654</td>\n    </tr>\n    <tr>\n      <th>min</th>\n      <td>3.134830e+05</td>\n      <td>1.000000</td>\n      <td>0.040000</td>\n    </tr>\n    <tr>\n      <th>25%</th>\n      <td>2.481218e+09</td>\n      <td>612.000000</td>\n      <td>63.845328</td>\n    </tr>\n    <tr>\n      <th>50%</th>\n      <td>4.993512e+09</td>\n      <td>1210.000000</td>\n      <td>87.822595</td>\n    </tr>\n    <tr>\n      <th>75%</th>\n      <td>7.516707e+09</td>\n      <td>2289.000000</td>\n      <td>111.080471</td>\n    </tr>\n    <tr>\n      <th>max</th>\n      <td>9.999608e+09</td>\n      <td>50233.000000</td>\n      <td>165.758664</td>\n    </tr>\n  </tbody>\n</table>\n</div>"
     },
     "execution_count": 3,
     "metadata": {},
     "output_type": "execute_result"
    }
   ],
   "source": [
    "# for the numerical columns, of which there are effectively 2 (ignore id)\n",
    "# LOL who paid 4 cents??\n",
    "df.describe()"
   ],
   "metadata": {
    "collapsed": false,
    "pycharm": {
     "name": "#%%\n"
    }
   }
  },
  {
   "cell_type": "code",
   "execution_count": 4,
   "outputs": [],
   "source": [
    "# Clean up cell\n",
    "\n",
    "# I am a bit rusty on my pandas data hygiene.\n",
    "# I clean up most of my data with map reduce style transforms in Node.js lately.\n",
    "# For expediency, and since the dataset was only 48000 rows,\n",
    "# I opened it in Excel and cleaned it there"
   ],
   "metadata": {
    "collapsed": false,
    "pycharm": {
     "name": "#%%\n"
    }
   }
  },
  {
   "cell_type": "code",
   "execution_count": 5,
   "outputs": [
    {
     "data": {
      "text/plain": "industry_clean\nhealthcare          11963\nmarketing agency    18095\nmissing              7364\nsoftware             5879\nunknown              4699\nName: id, dtype: int64"
     },
     "execution_count": 5,
     "metadata": {},
     "output_type": "execute_result"
    }
   ],
   "source": [
    "df.groupby(\"industry_clean\")[\"id\"].count()\n"
   ],
   "metadata": {
    "collapsed": false,
    "pycharm": {
     "name": "#%%\n"
    }
   }
  },
  {
   "cell_type": "code",
   "execution_count": 6,
   "outputs": [
    {
     "data": {
      "text/plain": "<bound method NDFrame.head of                id          industry    industry_clean      geography  \\\n0      1585597623               NaN           missing             GB   \n1      6531970533        healthcare        healthcare             US   \n2      8443866239       health care        healthcare         Canada   \n3      1480089466        healthcare        healthcare         Greece   \n4      6170390298  marketing agency  marketing agency            USA   \n5      1156146177        healthcare        healthcare            USA   \n6      9733351931  Marketing Agency  marketing agency             CA   \n7      2998276931          software          software         Greece   \n8      8761227506  marketing agency  marketing agency            USA   \n9      9299344288       health care        healthcare        America   \n10      841787598           unknown           unknown            USA   \n11     5844951821               unk           unknown             CA   \n12     7392304044               unk           unknown             CA   \n13     3512459072       mktg agency  marketing agency  United States   \n14       27595088          software          software            Esp   \n15     4029708490  marketing agency  marketing agency             CA   \n16     7565513377       mktg agency  marketing agency         Greece   \n17     4284920709  Marketing Agency  marketing agency             UK   \n18       73701252       health care        healthcare             GB   \n19      274417988       mktg agency  marketing agency            Esp   \n20     6259701537  Marketing Agency  marketing agency             CA   \n21     4565519944               NaN           missing            Esp   \n22     3772042260               NaN           missing             CA   \n23     6771750183       mktg agency  marketing agency          India   \n24     4554985024       health care        healthcare         Canada   \n25     5077613600  Marketing Agency  marketing agency            USA   \n26     2111447112               NaN           missing             US   \n27     9582917380        healthcare        healthcare             GB   \n28     5518637956  Marketing Agency  marketing agency            USA   \n29     6868044742          software          software         Canada   \n...           ...               ...               ...            ...   \n47970  1577612316        healthcare        healthcare         France   \n47971  8859918923       mktg agency  marketing agency            USA   \n47972  3440878555           unknown           unknown             UK   \n47973  6315045544           unknown           unknown        America   \n47974  6015771595        healthcare        healthcare         Canada   \n47975  2013498152  Marketing Agency  marketing agency            USA   \n47976  3339912487               unk           unknown        America   \n47977  5152467178  Marketing Agency  marketing agency             US   \n47978  8543764841       mktg agency  marketing agency             CA   \n47979  6293526897  marketing agency  marketing agency            USA   \n47980  5474464017  marketing agency  marketing agency             CA   \n47981  8384605600       health care        healthcare        England   \n47982  8778904101       health care        healthcare            USA   \n47983  9370882244               NaN           missing            USA   \n47984  1534425170               unk           unknown             US   \n47985  2730889445  Marketing Agency  marketing agency        America   \n47986  1085403757          software          software            Esp   \n47987   490467902  Marketing Agency  marketing agency             US   \n47988  2949687901       health care        healthcare        England   \n47989  4467343530       mktg agency  marketing agency        America   \n47990  9512565498        healthcare        healthcare  United States   \n47991  4979762223       health care        healthcare            USA   \n47992  4697476933               NaN           missing             CA   \n47993  7106962610               unk           unknown         Greece   \n47994  9814436268  Marketing Agency  marketing agency            USA   \n47995  3188441268          software          software  United States   \n47996   914951097       mktg agency  marketing agency        America   \n47997  7023744232       health care        healthcare         Canada   \n47998  9476314554  Marketing Agency  marketing agency             US   \n47999   234391700        healthcare        healthcare             CA   \n\n          geo_simple most_common_browser  session_time_prior_month_seconds  \\\n0      Rest of World              Chrome                              1092   \n1      United States             Firefox                              2480   \n2      Rest of World              Chrome                              1671   \n3      Rest of World              Chrome                               465   \n4      United States             Firefox                              1477   \n5      United States              Chrome                               831   \n6      Rest of World             Firefox                                34   \n7      Rest of World             Firefox                              1276   \n8      United States              Chrome                               288   \n9      United States                  IE                              2872   \n10     United States             Firefox                              2017   \n11     Rest of World                  IE                              7691   \n12     Rest of World              Safari                              2408   \n13     United States                  IE                              2421   \n14     Rest of World              Chrome                              3478   \n15     Rest of World              Chrome                               212   \n16     Rest of World              Chrome                               659   \n17     Rest of World              Safari                               485   \n18     Rest of World              Chrome                             10806   \n19     Rest of World              Chrome                              5256   \n20     Rest of World              Chrome                               231   \n21     Rest of World              Chrome                              3487   \n22     Rest of World              Chrome                              1247   \n23     Rest of World              Chrome                              1045   \n24     Rest of World              Chrome                               871   \n25     United States                  IE                               639   \n26     United States              Chrome                              5062   \n27     Rest of World              Chrome                              1465   \n28     United States                  IE                              1033   \n29     Rest of World              Chrome                               663   \n...              ...                 ...                               ...   \n47970  Rest of World                  IE                              5446   \n47971  United States                  IE                              1291   \n47972  Rest of World              Chrome                              1621   \n47973  United States              Chrome                              2858   \n47974  Rest of World              Safari                               478   \n47975  United States              Safari                               676   \n47976  United States              Chrome                               266   \n47977  United States              Chrome                              5618   \n47978  Rest of World              Chrome                             27862   \n47979  United States              Chrome                              2860   \n47980  Rest of World              Chrome                               432   \n47981  Rest of World              Chrome                               878   \n47982  United States              Chrome                              1099   \n47983  United States             Firefox                              7443   \n47984  United States              Chrome                              1084   \n47985  United States              Chrome                              9042   \n47986  Rest of World              Chrome                               426   \n47987  United States              Chrome                              2836   \n47988  Rest of World              Chrome                               608   \n47989  United States                  IE                             10461   \n47990  United States              Chrome                              3852   \n47991  United States              Chrome                              5434   \n47992  Rest of World             Firefox                              1442   \n47993  Rest of World             Firefox                              2225   \n47994  United States              Safari                              1260   \n47995  United States              Chrome                              1648   \n47996  United States              Chrome                              1223   \n47997  Rest of World              Chrome                              4419   \n47998  United States              Chrome                               433   \n47999  Rest of World             Firefox                              7266   \n\n       prior_month_paid  industry_simple_marketing agency  \\\n0             25.607595                                 0   \n1            115.579494                                 0   \n2             89.462246                                 0   \n3             33.836123                                 0   \n4            129.394415                                 1   \n5             99.644379                                 0   \n6             90.730000                                 1   \n7             39.939101                                 0   \n8            116.811472                                 1   \n9            116.660502                                 0   \n10            92.328953                                 0   \n11            85.335616                                 0   \n12            79.049494                                 0   \n13           139.299494                                 1   \n14            53.633718                                 0   \n15           103.611472                                 1   \n16            62.282944                                 1   \n17            69.246123                                 1   \n18            66.943332                                 0   \n19            83.798369                                 1   \n20           104.371472                                 1   \n21            35.683718                                 0   \n22            70.459101                                 0   \n23            64.027595                                 1   \n24            86.264379                                 0   \n25           123.492944                                 1   \n26           102.510965                                 0   \n27            47.194415                                 0   \n28           123.227595                                 1   \n29            81.872944                                 0   \n...                 ...                               ...   \n47970         55.812045                                 0   \n47971        132.929102                                 1   \n47972         28.682246                                 0   \n47973         97.050502                                 0   \n47974         77.816123                                 0   \n47975        120.492944                                 1   \n47976         75.581472                                 0   \n47977        148.192958                                 1   \n47978        141.056424                                 1   \n47979        135.310502                                 1   \n47980        108.806123                                 1   \n47981         47.014379                                 0   \n47982        104.347595                                 0   \n47983        100.355862                                 0   \n47984         81.787595                                 0   \n47985        149.856414                                 1   \n47986         34.116123                                 0   \n47987        138.420502                                 1   \n47988         42.062944                                 0   \n47989        150.072919                                 1   \n47990        112.917323                                 0   \n47991        117.452045                                 0   \n47992         68.124415                                 0   \n47993         34.759066                                 0   \n47994        126.019101                                 1   \n47995        103.682246                                 0   \n47996        124.759101                                 1   \n47997        105.044942                                 0   \n47998        117.116123                                 1   \n47999        108.509179                                 0   \n\n       industry_simple_software  industry_simple_unknown  geo_clean_France  \\\n0                             0                        1                 0   \n1                             0                        0                 0   \n2                             0                        0                 0   \n3                             0                        0                 0   \n4                             0                        0                 0   \n5                             0                        0                 0   \n6                             0                        0                 0   \n7                             1                        0                 0   \n8                             0                        0                 0   \n9                             0                        0                 0   \n10                            0                        1                 0   \n11                            0                        1                 0   \n12                            0                        1                 0   \n13                            0                        0                 0   \n14                            1                        0                 0   \n15                            0                        0                 0   \n16                            0                        0                 0   \n17                            0                        0                 0   \n18                            0                        0                 0   \n19                            0                        0                 0   \n20                            0                        0                 0   \n21                            0                        1                 0   \n22                            0                        1                 0   \n23                            0                        0                 0   \n24                            0                        0                 0   \n25                            0                        0                 0   \n26                            0                        1                 0   \n27                            0                        0                 0   \n28                            0                        0                 0   \n29                            1                        0                 0   \n...                         ...                      ...               ...   \n47970                         0                        0                 1   \n47971                         0                        0                 0   \n47972                         0                        1                 0   \n47973                         0                        1                 0   \n47974                         0                        0                 0   \n47975                         0                        0                 0   \n47976                         0                        1                 0   \n47977                         0                        0                 0   \n47978                         0                        0                 0   \n47979                         0                        0                 0   \n47980                         0                        0                 0   \n47981                         0                        0                 0   \n47982                         0                        0                 0   \n47983                         0                        1                 0   \n47984                         0                        1                 0   \n47985                         0                        0                 0   \n47986                         1                        0                 0   \n47987                         0                        0                 0   \n47988                         0                        0                 0   \n47989                         0                        0                 0   \n47990                         0                        0                 0   \n47991                         0                        0                 0   \n47992                         0                        1                 0   \n47993                         0                        1                 0   \n47994                         0                        0                 0   \n47995                         1                        0                 0   \n47996                         0                        0                 0   \n47997                         0                        0                 0   \n47998                         0                        0                 0   \n47999                         0                        0                 0   \n\n       geo_clean_Greece  geo_clean_India  geo_clean_Pakistan  geo_clean_Spain  \\\n0                     0                0                   0                0   \n1                     0                0                   0                0   \n2                     0                0                   0                0   \n3                     1                0                   0                0   \n4                     0                0                   0                0   \n5                     0                0                   0                0   \n6                     0                0                   0                0   \n7                     1                0                   0                0   \n8                     0                0                   0                0   \n9                     0                0                   0                0   \n10                    0                0                   0                0   \n11                    0                0                   0                0   \n12                    0                0                   0                0   \n13                    0                0                   0                0   \n14                    0                0                   0                1   \n15                    0                0                   0                0   \n16                    1                0                   0                0   \n17                    0                0                   0                0   \n18                    0                0                   0                0   \n19                    0                0                   0                1   \n20                    0                0                   0                0   \n21                    0                0                   0                1   \n22                    0                0                   0                0   \n23                    0                1                   0                0   \n24                    0                0                   0                0   \n25                    0                0                   0                0   \n26                    0                0                   0                0   \n27                    0                0                   0                0   \n28                    0                0                   0                0   \n29                    0                0                   0                0   \n...                 ...              ...                 ...              ...   \n47970                 0                0                   0                0   \n47971                 0                0                   0                0   \n47972                 0                0                   0                0   \n47973                 0                0                   0                0   \n47974                 0                0                   0                0   \n47975                 0                0                   0                0   \n47976                 0                0                   0                0   \n47977                 0                0                   0                0   \n47978                 0                0                   0                0   \n47979                 0                0                   0                0   \n47980                 0                0                   0                0   \n47981                 0                0                   0                0   \n47982                 0                0                   0                0   \n47983                 0                0                   0                0   \n47984                 0                0                   0                0   \n47985                 0                0                   0                0   \n47986                 0                0                   0                1   \n47987                 0                0                   0                0   \n47988                 0                0                   0                0   \n47989                 0                0                   0                0   \n47990                 0                0                   0                0   \n47991                 0                0                   0                0   \n47992                 0                0                   0                0   \n47993                 1                0                   0                0   \n47994                 0                0                   0                0   \n47995                 0                0                   0                0   \n47996                 0                0                   0                0   \n47997                 0                0                   0                0   \n47998                 0                0                   0                0   \n47999                 0                0                   0                0   \n\n       geo_clean_United Kingdom  geo_clean_United States  \n0                             1                        0  \n1                             0                        1  \n2                             0                        0  \n3                             0                        0  \n4                             0                        1  \n5                             0                        1  \n6                             0                        0  \n7                             0                        0  \n8                             0                        1  \n9                             0                        1  \n10                            0                        1  \n11                            0                        0  \n12                            0                        0  \n13                            0                        1  \n14                            0                        0  \n15                            0                        0  \n16                            0                        0  \n17                            1                        0  \n18                            1                        0  \n19                            0                        0  \n20                            0                        0  \n21                            0                        0  \n22                            0                        0  \n23                            0                        0  \n24                            0                        0  \n25                            0                        1  \n26                            0                        1  \n27                            1                        0  \n28                            0                        1  \n29                            0                        0  \n...                         ...                      ...  \n47970                         0                        0  \n47971                         0                        1  \n47972                         1                        0  \n47973                         0                        1  \n47974                         0                        0  \n47975                         0                        1  \n47976                         0                        1  \n47977                         0                        1  \n47978                         0                        0  \n47979                         0                        1  \n47980                         0                        0  \n47981                         1                        0  \n47982                         0                        1  \n47983                         0                        1  \n47984                         0                        1  \n47985                         0                        1  \n47986                         0                        0  \n47987                         0                        1  \n47988                         1                        0  \n47989                         0                        1  \n47990                         0                        1  \n47991                         0                        1  \n47992                         0                        0  \n47993                         0                        0  \n47994                         0                        1  \n47995                         0                        1  \n47996                         0                        1  \n47997                         0                        0  \n47998                         0                        1  \n47999                         0                        0  \n\n[48000 rows x 18 columns]>"
     },
     "execution_count": 6,
     "metadata": {},
     "output_type": "execute_result"
    }
   ],
   "source": [
    "df_dummies = pd.get_dummies(df, columns=['industry_simple', 'geo_clean'], drop_first=True)\n",
    "df_dummies.head"
   ],
   "metadata": {
    "collapsed": false,
    "pycharm": {
     "name": "#%%\n"
    }
   }
  },
  {
   "cell_type": "code",
   "execution_count": 7,
   "outputs": [
    {
     "data": {
      "text/plain": "<matplotlib.figure.Figure at 0x126995128>"
     },
     "metadata": {},
     "output_type": "display_data"
    },
    {
     "data": {
      "text/plain": "<matplotlib.figure.Figure at 0x118fac6a0>"
     },
     "metadata": {},
     "output_type": "display_data"
    },
    {
     "data": {
      "text/plain": "<matplotlib.figure.Figure at 0x11c8b0668>"
     },
     "metadata": {},
     "output_type": "display_data"
    },
    {
     "data": {
      "text/plain": "<matplotlib.figure.Figure at 0x127126ba8>"
     },
     "metadata": {},
     "output_type": "display_data"
    },
    {
     "data": {
      "text/plain": "<matplotlib.figure.Figure at 0x127082dd8>"
     },
     "metadata": {},
     "output_type": "display_data"
    },
    {
     "data": {
      "text/plain": "<matplotlib.figure.Figure at 0x1270a14a8>"
     },
     "metadata": {},
     "output_type": "display_data"
    },
    {
     "data": {
      "text/plain": "<matplotlib.figure.Figure at 0x12715aba8>"
     },
     "metadata": {},
     "output_type": "display_data"
    },
    {
     "data": {
      "text/plain": "<matplotlib.figure.Figure at 0x127148e80>"
     },
     "metadata": {},
     "output_type": "display_data"
    },
    {
     "data": {
      "text/plain": "<matplotlib.figure.Figure at 0x11c87b828>"
     },
     "metadata": {},
     "output_type": "display_data"
    },
    {
     "data": {
      "text/plain": "<matplotlib.figure.Figure at 0x11c879eb8>"
     },
     "metadata": {},
     "output_type": "display_data"
    }
   ],
   "source": [
    "# Need to check for linear behavior. We get some extra bogus charts with this loop\n",
    "# but as humans we can quickly scan past them\n",
    "# NOTE: I did this out of habit but we only have dummy variables and those are fine\n",
    "import matplotlib.pyplot as plt\n",
    "drop_cols = ['prior_month_paid',\n",
    "             'id', 'industry', 'industry_clean',\n",
    "             'geography', 'geo_simple',\n",
    "             'session_time_prior_month_seconds',\n",
    "             'most_common_browser']\n",
    "\n",
    "for key in df_dummies.drop(drop_cols, axis=1).keys():\n",
    "    plt.scatter(df_dummies[key], df_dummies['prior_month_paid'], color='red')\n",
    "    plt.title('Prior Month Paid Vs {0}'.format(key), fontsize=14)\n",
    "    plt.xlabel(key, fontsize=14)\n",
    "    plt.ylabel('Prior Month Paid', fontsize=14)\n",
    "    plt.grid(True)\n",
    "    plt.show()\n"
   ],
   "metadata": {
    "collapsed": false,
    "pycharm": {
     "name": "#%%\n"
    }
   }
  },
  {
   "cell_type": "code",
   "execution_count": 8,
   "outputs": [
    {
     "data": {
      "text/plain": "<class 'statsmodels.iolib.summary.Summary'>\n\"\"\"\n                            OLS Regression Results                            \n==============================================================================\nDep. Variable:       prior_month_paid   R-squared:                       0.916\nModel:                            OLS   Adj. R-squared:                  0.916\nMethod:                 Least Squares   F-statistic:                 3.757e+04\nDate:                Mon, 31 Aug 2020   Prob (F-statistic):               0.00\nTime:                        12:17:08   Log-Likelihood:            -1.7602e+05\nNo. Observations:               48000   AIC:                         3.521e+05\nDf Residuals:                   47985   BIC:                         3.522e+05\nDf Model:                          14                                         \nCovariance Type:            nonrobust                                         \n=========================================================================================================\n                                            coef    std err          t      P>|t|      [0.025      0.975]\n---------------------------------------------------------------------------------------------------------\nIntercept                                89.1437      0.126    708.222      0.000      88.897      89.390\nC(industry_clean)[T.marketing agency]    25.0712      0.112    224.580      0.000      24.852      25.290\nC(industry_clean)[T.missing]            -19.8819      0.140   -141.691      0.000     -20.157     -19.607\nC(industry_clean)[T.software]            -2.8977      0.151    -19.205      0.000      -3.193      -2.602\nC(industry_clean)[T.unknown]            -19.9583      0.163   -122.369      0.000     -20.278     -19.639\nC(geo_clean)[T.France]                  -44.9335      0.245   -183.467      0.000     -45.414     -44.454\nC(geo_clean)[T.Greece]                  -45.1993      0.242   -186.494      0.000     -45.674     -44.724\nC(geo_clean)[T.India]                   -44.5533      0.243   -183.415      0.000     -45.029     -44.077\nC(geo_clean)[T.Pakistan]                -45.1588      0.241   -187.001      0.000     -45.632     -44.685\nC(geo_clean)[T.Spain]                   -44.7533      0.185   -242.193      0.000     -45.116     -44.391\nC(geo_clean)[T.United Kingdom]          -40.0528      0.160   -251.110      0.000     -40.365     -39.740\nC(geo_clean)[T.United States]            14.9700      0.112    133.565      0.000      14.750      15.190\nC(most_common_browser)[T.Firefox]        -0.0483      0.123     -0.394      0.694      -0.289       0.192\nC(most_common_browser)[T.IE]             -0.1903      0.123     -1.553      0.120      -0.430       0.050\nC(most_common_browser)[T.Safari]          0.0890      0.122      0.727      0.467      -0.151       0.329\n==============================================================================\nOmnibus:                      302.318   Durbin-Watson:                   2.008\nProb(Omnibus):                  0.000   Jarque-Bera (JB):              307.526\nSkew:                           0.194   Prob(JB):                     1.67e-67\nKurtosis:                       2.947   Cond. No.                         9.30\n==============================================================================\n\nNotes:\n[1] Standard Errors assume that the covariance matrix of the errors is correctly specified.\n\"\"\"",
      "text/html": "<table class=\"simpletable\">\n<caption>OLS Regression Results</caption>\n<tr>\n  <th>Dep. Variable:</th>    <td>prior_month_paid</td> <th>  R-squared:         </th>  <td>   0.916</td>  \n</tr>\n<tr>\n  <th>Model:</th>                   <td>OLS</td>       <th>  Adj. R-squared:    </th>  <td>   0.916</td>  \n</tr>\n<tr>\n  <th>Method:</th>             <td>Least Squares</td>  <th>  F-statistic:       </th>  <td>3.757e+04</td> \n</tr>\n<tr>\n  <th>Date:</th>             <td>Mon, 31 Aug 2020</td> <th>  Prob (F-statistic):</th>   <td>  0.00</td>   \n</tr>\n<tr>\n  <th>Time:</th>                 <td>12:17:08</td>     <th>  Log-Likelihood:    </th> <td>-1.7602e+05</td>\n</tr>\n<tr>\n  <th>No. Observations:</th>      <td> 48000</td>      <th>  AIC:               </th>  <td>3.521e+05</td> \n</tr>\n<tr>\n  <th>Df Residuals:</th>          <td> 47985</td>      <th>  BIC:               </th>  <td>3.522e+05</td> \n</tr>\n<tr>\n  <th>Df Model:</th>              <td>    14</td>      <th>                     </th>      <td> </td>     \n</tr>\n<tr>\n  <th>Covariance Type:</th>      <td>nonrobust</td>    <th>                     </th>      <td> </td>     \n</tr>\n</table>\n<table class=\"simpletable\">\n<tr>\n                    <td></td>                       <th>coef</th>     <th>std err</th>      <th>t</th>      <th>P>|t|</th>  <th>[0.025</th>    <th>0.975]</th>  \n</tr>\n<tr>\n  <th>Intercept</th>                             <td>   89.1437</td> <td>    0.126</td> <td>  708.222</td> <td> 0.000</td> <td>   88.897</td> <td>   89.390</td>\n</tr>\n<tr>\n  <th>C(industry_clean)[T.marketing agency]</th> <td>   25.0712</td> <td>    0.112</td> <td>  224.580</td> <td> 0.000</td> <td>   24.852</td> <td>   25.290</td>\n</tr>\n<tr>\n  <th>C(industry_clean)[T.missing]</th>          <td>  -19.8819</td> <td>    0.140</td> <td> -141.691</td> <td> 0.000</td> <td>  -20.157</td> <td>  -19.607</td>\n</tr>\n<tr>\n  <th>C(industry_clean)[T.software]</th>         <td>   -2.8977</td> <td>    0.151</td> <td>  -19.205</td> <td> 0.000</td> <td>   -3.193</td> <td>   -2.602</td>\n</tr>\n<tr>\n  <th>C(industry_clean)[T.unknown]</th>          <td>  -19.9583</td> <td>    0.163</td> <td> -122.369</td> <td> 0.000</td> <td>  -20.278</td> <td>  -19.639</td>\n</tr>\n<tr>\n  <th>C(geo_clean)[T.France]</th>                <td>  -44.9335</td> <td>    0.245</td> <td> -183.467</td> <td> 0.000</td> <td>  -45.414</td> <td>  -44.454</td>\n</tr>\n<tr>\n  <th>C(geo_clean)[T.Greece]</th>                <td>  -45.1993</td> <td>    0.242</td> <td> -186.494</td> <td> 0.000</td> <td>  -45.674</td> <td>  -44.724</td>\n</tr>\n<tr>\n  <th>C(geo_clean)[T.India]</th>                 <td>  -44.5533</td> <td>    0.243</td> <td> -183.415</td> <td> 0.000</td> <td>  -45.029</td> <td>  -44.077</td>\n</tr>\n<tr>\n  <th>C(geo_clean)[T.Pakistan]</th>              <td>  -45.1588</td> <td>    0.241</td> <td> -187.001</td> <td> 0.000</td> <td>  -45.632</td> <td>  -44.685</td>\n</tr>\n<tr>\n  <th>C(geo_clean)[T.Spain]</th>                 <td>  -44.7533</td> <td>    0.185</td> <td> -242.193</td> <td> 0.000</td> <td>  -45.116</td> <td>  -44.391</td>\n</tr>\n<tr>\n  <th>C(geo_clean)[T.United Kingdom]</th>        <td>  -40.0528</td> <td>    0.160</td> <td> -251.110</td> <td> 0.000</td> <td>  -40.365</td> <td>  -39.740</td>\n</tr>\n<tr>\n  <th>C(geo_clean)[T.United States]</th>         <td>   14.9700</td> <td>    0.112</td> <td>  133.565</td> <td> 0.000</td> <td>   14.750</td> <td>   15.190</td>\n</tr>\n<tr>\n  <th>C(most_common_browser)[T.Firefox]</th>     <td>   -0.0483</td> <td>    0.123</td> <td>   -0.394</td> <td> 0.694</td> <td>   -0.289</td> <td>    0.192</td>\n</tr>\n<tr>\n  <th>C(most_common_browser)[T.IE]</th>          <td>   -0.1903</td> <td>    0.123</td> <td>   -1.553</td> <td> 0.120</td> <td>   -0.430</td> <td>    0.050</td>\n</tr>\n<tr>\n  <th>C(most_common_browser)[T.Safari]</th>      <td>    0.0890</td> <td>    0.122</td> <td>    0.727</td> <td> 0.467</td> <td>   -0.151</td> <td>    0.329</td>\n</tr>\n</table>\n<table class=\"simpletable\">\n<tr>\n  <th>Omnibus:</th>       <td>302.318</td> <th>  Durbin-Watson:     </th> <td>   2.008</td>\n</tr>\n<tr>\n  <th>Prob(Omnibus):</th> <td> 0.000</td>  <th>  Jarque-Bera (JB):  </th> <td> 307.526</td>\n</tr>\n<tr>\n  <th>Skew:</th>          <td> 0.194</td>  <th>  Prob(JB):          </th> <td>1.67e-67</td>\n</tr>\n<tr>\n  <th>Kurtosis:</th>      <td> 2.947</td>  <th>  Cond. No.          </th> <td>    9.30</td>\n</tr>\n</table><br/><br/>Notes:<br/>[1] Standard Errors assume that the covariance matrix of the errors is correctly specified."
     },
     "execution_count": 8,
     "metadata": {},
     "output_type": "execute_result"
    }
   ],
   "source": [
    "import statsmodels.formula.api as sm\n",
    "#X=sm.add_constant(X)\n",
    "model=sm.ols('prior_month_paid ~ C(industry_clean) + C(geo_clean) + C(most_common_browser)',data = df).fit()\n",
    "model.summary()\n",
    "\n",
    "# I like where this is going but I am concerned that dropping thee first category from industry is not ideal\n",
    "# Also looks like brower is not contributing much to this model, so I will drop it"
   ],
   "metadata": {
    "collapsed": false,
    "pycharm": {
     "name": "#%%\n"
    }
   }
  },
  {
   "cell_type": "code",
   "execution_count": 9,
   "outputs": [
    {
     "data": {
      "text/plain": "<class 'statsmodels.iolib.summary.Summary'>\n\"\"\"\n                            OLS Regression Results                            \n==============================================================================\nDep. Variable:       prior_month_paid   R-squared:                       0.916\nModel:                            OLS   Adj. R-squared:                  0.916\nMethod:                 Least Squares   F-statistic:                 5.259e+04\nDate:                Mon, 31 Aug 2020   Prob (F-statistic):               0.00\nTime:                        12:17:08   Log-Likelihood:            -1.7603e+05\nNo. Observations:               48000   AIC:                         3.521e+05\nDf Residuals:                   47989   BIC:                         3.522e+05\nDf Model:                          10                                         \nCovariance Type:            nonrobust                                         \n==========================================================================================================\n                                             coef    std err          t      P>|t|      [0.025      0.975]\n----------------------------------------------------------------------------------------------------------\nIntercept                                 89.1191      0.119    751.876      0.000      88.887      89.351\nC(industry_simple)[T.marketing agency]    25.0718      0.112    224.592      0.000      24.853      25.291\nC(industry_simple)[T.software]            -2.8987      0.151    -19.212      0.000      -3.194      -2.603\nC(industry_simple)[T.unknown]            -19.9111      0.122   -162.900      0.000     -20.151     -19.672\nC(geo_clean)[T.France]                   -44.9323      0.245   -183.465      0.000     -45.412     -44.452\nC(geo_clean)[T.Greece]                   -45.2007      0.242   -186.511      0.000     -45.676     -44.726\nC(geo_clean)[T.India]                    -44.5545      0.243   -183.422      0.000     -45.031     -44.078\nC(geo_clean)[T.Pakistan]                 -45.1588      0.241   -187.004      0.000     -45.632     -44.685\nC(geo_clean)[T.Spain]                    -44.7548      0.185   -242.211      0.000     -45.117     -44.393\nC(geo_clean)[T.United Kingdom]           -40.0544      0.159   -251.134      0.000     -40.367     -39.742\nC(geo_clean)[T.United States]             14.9700      0.112    133.566      0.000      14.750      15.190\n==============================================================================\nOmnibus:                      302.925   Durbin-Watson:                   2.008\nProb(Omnibus):                  0.000   Jarque-Bera (JB):              308.166\nSkew:                           0.195   Prob(JB):                     1.21e-67\nKurtosis:                       2.948   Cond. No.                         9.12\n==============================================================================\n\nNotes:\n[1] Standard Errors assume that the covariance matrix of the errors is correctly specified.\n\"\"\"",
      "text/html": "<table class=\"simpletable\">\n<caption>OLS Regression Results</caption>\n<tr>\n  <th>Dep. Variable:</th>    <td>prior_month_paid</td> <th>  R-squared:         </th>  <td>   0.916</td>  \n</tr>\n<tr>\n  <th>Model:</th>                   <td>OLS</td>       <th>  Adj. R-squared:    </th>  <td>   0.916</td>  \n</tr>\n<tr>\n  <th>Method:</th>             <td>Least Squares</td>  <th>  F-statistic:       </th>  <td>5.259e+04</td> \n</tr>\n<tr>\n  <th>Date:</th>             <td>Mon, 31 Aug 2020</td> <th>  Prob (F-statistic):</th>   <td>  0.00</td>   \n</tr>\n<tr>\n  <th>Time:</th>                 <td>12:17:08</td>     <th>  Log-Likelihood:    </th> <td>-1.7603e+05</td>\n</tr>\n<tr>\n  <th>No. Observations:</th>      <td> 48000</td>      <th>  AIC:               </th>  <td>3.521e+05</td> \n</tr>\n<tr>\n  <th>Df Residuals:</th>          <td> 47989</td>      <th>  BIC:               </th>  <td>3.522e+05</td> \n</tr>\n<tr>\n  <th>Df Model:</th>              <td>    10</td>      <th>                     </th>      <td> </td>     \n</tr>\n<tr>\n  <th>Covariance Type:</th>      <td>nonrobust</td>    <th>                     </th>      <td> </td>     \n</tr>\n</table>\n<table class=\"simpletable\">\n<tr>\n                     <td></td>                       <th>coef</th>     <th>std err</th>      <th>t</th>      <th>P>|t|</th>  <th>[0.025</th>    <th>0.975]</th>  \n</tr>\n<tr>\n  <th>Intercept</th>                              <td>   89.1191</td> <td>    0.119</td> <td>  751.876</td> <td> 0.000</td> <td>   88.887</td> <td>   89.351</td>\n</tr>\n<tr>\n  <th>C(industry_simple)[T.marketing agency]</th> <td>   25.0718</td> <td>    0.112</td> <td>  224.592</td> <td> 0.000</td> <td>   24.853</td> <td>   25.291</td>\n</tr>\n<tr>\n  <th>C(industry_simple)[T.software]</th>         <td>   -2.8987</td> <td>    0.151</td> <td>  -19.212</td> <td> 0.000</td> <td>   -3.194</td> <td>   -2.603</td>\n</tr>\n<tr>\n  <th>C(industry_simple)[T.unknown]</th>          <td>  -19.9111</td> <td>    0.122</td> <td> -162.900</td> <td> 0.000</td> <td>  -20.151</td> <td>  -19.672</td>\n</tr>\n<tr>\n  <th>C(geo_clean)[T.France]</th>                 <td>  -44.9323</td> <td>    0.245</td> <td> -183.465</td> <td> 0.000</td> <td>  -45.412</td> <td>  -44.452</td>\n</tr>\n<tr>\n  <th>C(geo_clean)[T.Greece]</th>                 <td>  -45.2007</td> <td>    0.242</td> <td> -186.511</td> <td> 0.000</td> <td>  -45.676</td> <td>  -44.726</td>\n</tr>\n<tr>\n  <th>C(geo_clean)[T.India]</th>                  <td>  -44.5545</td> <td>    0.243</td> <td> -183.422</td> <td> 0.000</td> <td>  -45.031</td> <td>  -44.078</td>\n</tr>\n<tr>\n  <th>C(geo_clean)[T.Pakistan]</th>               <td>  -45.1588</td> <td>    0.241</td> <td> -187.004</td> <td> 0.000</td> <td>  -45.632</td> <td>  -44.685</td>\n</tr>\n<tr>\n  <th>C(geo_clean)[T.Spain]</th>                  <td>  -44.7548</td> <td>    0.185</td> <td> -242.211</td> <td> 0.000</td> <td>  -45.117</td> <td>  -44.393</td>\n</tr>\n<tr>\n  <th>C(geo_clean)[T.United Kingdom]</th>         <td>  -40.0544</td> <td>    0.159</td> <td> -251.134</td> <td> 0.000</td> <td>  -40.367</td> <td>  -39.742</td>\n</tr>\n<tr>\n  <th>C(geo_clean)[T.United States]</th>          <td>   14.9700</td> <td>    0.112</td> <td>  133.566</td> <td> 0.000</td> <td>   14.750</td> <td>   15.190</td>\n</tr>\n</table>\n<table class=\"simpletable\">\n<tr>\n  <th>Omnibus:</th>       <td>302.925</td> <th>  Durbin-Watson:     </th> <td>   2.008</td>\n</tr>\n<tr>\n  <th>Prob(Omnibus):</th> <td> 0.000</td>  <th>  Jarque-Bera (JB):  </th> <td> 308.166</td>\n</tr>\n<tr>\n  <th>Skew:</th>          <td> 0.195</td>  <th>  Prob(JB):          </th> <td>1.21e-67</td>\n</tr>\n<tr>\n  <th>Kurtosis:</th>      <td> 2.948</td>  <th>  Cond. No.          </th> <td>    9.12</td>\n</tr>\n</table><br/><br/>Notes:<br/>[1] Standard Errors assume that the covariance matrix of the errors is correctly specified."
     },
     "execution_count": 9,
     "metadata": {},
     "output_type": "execute_result"
    }
   ],
   "source": [
    "# FINAL PREFFERED MODEL\n",
    "model=sm.ols('prior_month_paid ~ C(industry_simple) + C(geo_clean)',data = df).fit()\n",
    "model.summary()"
   ],
   "metadata": {
    "collapsed": false,
    "pycharm": {
     "name": "#%%\n"
    }
   }
  },
  {
   "cell_type": "code",
   "execution_count": 10,
   "outputs": [],
   "source": [
    "# I tried a few variants:\n",
    "# It became clear from the model that industry unknowns and missings are about the same\n",
    "# industry_simple groups them back together\n",
    "#   An aggressively bucketed geo field (geo_simple) - not effective, reduced R2 without improving anything\n",
    "# model=sm.ols('prior_month_paid ~ C(industry_simple) + C(geo_simple)',data = df).fit()\n",
    "# model.summary()"
   ],
   "metadata": {
    "collapsed": false,
    "pycharm": {
     "name": "#%%\n"
    }
   }
  },
  {
   "cell_type": "code",
   "execution_count": 11,
   "outputs": [
    {
     "data": {
      "text/plain": "industry_simple_marketing agency    uint8\nindustry_simple_software            uint8\nindustry_simple_unknown             uint8\ngeo_clean_France                    uint8\ngeo_clean_Greece                    uint8\ngeo_clean_India                     uint8\ngeo_clean_Pakistan                  uint8\ngeo_clean_Spain                     uint8\ngeo_clean_United Kingdom            uint8\ngeo_clean_United States             uint8\ndtype: object"
     },
     "execution_count": 11,
     "metadata": {},
     "output_type": "execute_result"
    }
   ],
   "source": [
    "# TEST TIME\n",
    "# Note: I'm switching libs here because I like statsmodels for it summary stats but I hate the way it deals with test vs train sets\n",
    "\n",
    "X=df_dummies.drop(drop_cols,axis=1)\n",
    "X.dtypes"
   ],
   "metadata": {
    "collapsed": false,
    "pycharm": {
     "name": "#%%\n"
    }
   }
  },
  {
   "cell_type": "code",
   "execution_count": 12,
   "outputs": [
    {
     "data": {
      "text/plain": "industry_simple_marketing agency    uint8\nindustry_simple_software            uint8\nindustry_simple_unknown             uint8\ngeo_clean_France                    uint8\ngeo_clean_Greece                    uint8\ngeo_clean_India                     uint8\ngeo_clean_Pakistan                  uint8\ngeo_clean_Spain                     uint8\ngeo_clean_United Kingdom            uint8\ngeo_clean_United States             uint8\ndtype: object"
     },
     "execution_count": 12,
     "metadata": {},
     "output_type": "execute_result"
    }
   ],
   "source": [
    "drop_cols_test = ['prior_month_paid',\n",
    "             'id', 'industry', 'geography',\n",
    "             'session_time_prior_month_seconds',\n",
    "             'most_common_browser']\n",
    "\n",
    "df_dummies_TEST = pd.get_dummies(df_TEST, columns=['industry_simple', 'geo_clean'], drop_first=True)\n",
    "#df_dummies_TEST.dtypes\n",
    "X_test = df_dummies_TEST.drop(drop_cols_test,axis=1)\n",
    "X_test.dtypes"
   ],
   "metadata": {
    "collapsed": false,
    "pycharm": {
     "name": "#%%\n"
    }
   }
  },
  {
   "cell_type": "code",
   "execution_count": 16,
   "outputs": [
    {
     "data": {
      "text/plain": "0     25.607595\n1    115.579494\n2     89.462246\n3     33.836123\n4    129.394415\nName: prior_month_paid, dtype: float64"
     },
     "execution_count": 16,
     "metadata": {},
     "output_type": "execute_result"
    }
   ],
   "source": [
    "Y=df_dummies['prior_month_paid']\n",
    "Y.head()"
   ],
   "metadata": {
    "collapsed": false,
    "pycharm": {
     "name": "#%%\n"
    }
   }
  },
  {
   "cell_type": "code",
   "execution_count": 17,
   "outputs": [],
   "source": [
    "Y_test = df_dummies_TEST['prior_month_paid']\n"
   ],
   "metadata": {
    "collapsed": false,
    "pycharm": {
     "name": "#%%\n"
    }
   }
  },
  {
   "cell_type": "code",
   "execution_count": 18,
   "outputs": [
    {
     "name": "stdout",
     "output_type": "stream",
     "text": [
      "89.11906032303973\n",
      "[ 25.07176978  -2.89870248 -19.91111256 -44.93232055 -45.20074551\n",
      " -44.5544743  -45.15880586 -44.7548134  -40.05437644  14.97004717]\n"
     ]
    }
   ],
   "source": [
    "from sklearn.linear_model import LinearRegression\n",
    "# instantiate and fit\n",
    "linreg = LinearRegression()\n",
    "sklmodel = linreg.fit(X, Y)\n",
    "#Verify we have the same model. Yay math works.\n",
    "print(linreg.intercept_)\n",
    "print(linreg.coef_)"
   ],
   "metadata": {
    "collapsed": false,
    "pycharm": {
     "name": "#%%\n"
    }
   }
  },
  {
   "cell_type": "code",
   "execution_count": 19,
   "outputs": [
    {
     "data": {
      "text/plain": "<matplotlib.collections.PathCollection at 0x139d7bf60>"
     },
     "execution_count": 19,
     "metadata": {},
     "output_type": "execute_result"
    },
    {
     "data": {
      "text/plain": "<matplotlib.figure.Figure at 0x1394176a0>",
      "image/png": "[encoded data removed]"
     },
     "metadata": {},
     "output_type": "display_data"
    }
   ],
   "source": [
    "predictions=sklmodel.predict(X_test)\n",
    "plt.scatter(Y_test,predictions)"
   ],
   "metadata": {
    "collapsed": false,
    "pycharm": {
     "name": "#%%\n"
    }
   }
  },
  {
   "cell_type": "code",
   "execution_count": 27,
   "outputs": [
    {
     "name": "stdout",
     "output_type": "stream",
     "text": [
      "Accuracy: 91.63616181177707\n"
     ]
    }
   ],
   "source": [
    "result = sklmodel.score(X_test, Y_test)\n",
    "print(\"Accuracy: {}\".format(result*100.0))"
   ],
   "metadata": {
    "collapsed": false,
    "pycharm": {
     "name": "#%%\n"
    }
   }
  }
 ],
 "metadata": {
  "kernelspec": {
   "display_name": "Python 3",
   "language": "python",
   "name": "python3"
  },
  "language_info": {
   "codemirror_mode": {
    "name": "ipython",
    "version": 2
   },
   "file_extension": ".py",
   "mimetype": "text/x-python",
   "name": "python",
   "nbconvert_exporter": "python",
   "pygments_lexer": "ipython2",
   "version": "2.7.6"
  }
 },
 "nbformat": 4,
 "nbformat_minor": 0
}